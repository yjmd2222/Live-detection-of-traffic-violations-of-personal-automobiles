{
 "cells": [
  {
   "cell_type": "code",
   "execution_count": 1,
   "metadata": {},
   "outputs": [
    {
     "name": "stderr",
     "output_type": "stream",
     "text": [
      "Cloning into 'temp'...\n"
     ]
    }
   ],
   "source": [
    "!git clone --branch multi_channel https://github.com/yjmd2222/ultralytics temp\n",
    "from os.path import join\n",
    "from os import listdir, rmdir\n",
    "from shutil import move\n",
    "\n",
    "root = '.'\n",
    "for filename in listdir(join(root, 'temp')):\n",
    "    move(join(root, 'temp', filename), join(root, filename))\n",
    "rmdir(join(root, 'temp'))\n",
    "!pip install -r requirements.txt"
   ]
  },
  {
   "cell_type": "code",
   "execution_count": 1,
   "metadata": {},
   "outputs": [],
   "source": [
    "from PIL import Image\n",
    "from ultralytics import YOLO\n",
    "import sys"
   ]
  },
  {
   "cell_type": "code",
   "execution_count": 2,
   "metadata": {},
   "outputs": [],
   "source": [
    "sys.path.append('../../')\n",
    "\n",
    "from select_image import select_image"
   ]
  },
  {
   "cell_type": "code",
   "execution_count": 3,
   "metadata": {},
   "outputs": [],
   "source": [
    "model = YOLO(r'runs\\detect\\train\\weights\\best.pt') # 오류 시 필요 패키지 자동 다운로드 후 한 번 더 실행해야 할 수도 있음."
   ]
  },
  {
   "cell_type": "code",
   "execution_count": 39,
   "metadata": {},
   "outputs": [
    {
     "name": "stderr",
     "output_type": "stream",
     "text": [
      "\n",
      "image 1/1 C:\\Users\\jinmo\\Documents\\GitHub\\tp2-copy\\data\\images\\test4\\F000047_000_4032_C_D_F_1.png: 384x640 (no detections), 76.2ms\n",
      "Speed: 0.8ms preprocess, 76.2ms inference, 0.7ms postprocess per image at shape (1, 3, 640, 640)\n"
     ]
    },
    {
     "name": "stdout",
     "output_type": "stream",
     "text": [
      "../../data/images\\test4\\F000047_000_4032_C_D_F_1.png\n"
     ]
    }
   ],
   "source": [
    "# get image path\n",
    "image_path = select_image('test4')\n",
    "# image_path = r'C:\\Users\\jinmo\\Documents\\GitHub\\tp2-copy\\YOLOv8_segmentation\\epochs89_batch64_size640360_count9027\\Image20230821115521.png'\n",
    "\n",
    "# Run inference on image\n",
    "results = model(image_path)  # results list\n",
    "\n",
    "# Show the results\n",
    "for r in results:\n",
    "    im_array = r.plot()\n",
    "    im = Image.fromarray(im_array[..., ::-1])\n",
    "    im.show()  # show image\n",
    "    # im.save('results.jpg')  # save image"
   ]
  },
  {
   "cell_type": "code",
   "execution_count": 42,
   "metadata": {},
   "outputs": [
    {
     "name": "stdout",
     "output_type": "stream",
     "text": [
      "../../data/images\\test4\\S000886_002_0063_C_D_R_0.png\n"
     ]
    },
    {
     "data": {
      "text/plain": [
       "True"
      ]
     },
     "execution_count": 42,
     "metadata": {},
     "output_type": "execute_result"
    }
   ],
   "source": [
    "import cv2\n",
    "image_path = select_image('test4')\n",
    "image = cv2.imread(image_path, cv2.IMREAD_UNCHANGED)\n",
    "cv2.imshow('title', image)\n",
    "cv2.waitKey(0)\n",
    "cv2.destroyAllWindows()\n",
    "cv2.imwrite('test.png', image)"
   ]
  },
  {
   "cell_type": "code",
   "execution_count": 34,
   "metadata": {},
   "outputs": [],
   "source": [
    "import cv2\n",
    "from itertools import permutations\n",
    "\n",
    "def unique_combinations(lst, r):\n",
    "    return list(permutations(lst, r))"
   ]
  },
  {
   "cell_type": "code",
   "execution_count": 43,
   "metadata": {},
   "outputs": [
    {
     "name": "stderr",
     "output_type": "stream",
     "text": [
      "\n"
     ]
    },
    {
     "name": "stderr",
     "output_type": "stream",
     "text": [
      "image 1/1 C:\\Users\\jinmo\\Documents\\GitHub\\tp2-copy\\YOLOv8_det_4_channel\\epochs50_batch64_size640360_count9027\\test.png: 384x640 1 , 70.0ms\n",
      "Speed: 0.7ms preprocess, 70.0ms inference, 1.5ms postprocess per image at shape (1, 3, 640, 640)\n",
      "\n",
      "image 1/1 C:\\Users\\jinmo\\Documents\\GitHub\\tp2-copy\\YOLOv8_det_4_channel\\epochs50_batch64_size640360_count9027\\test.png: 384x640 (no detections), 66.8ms\n"
     ]
    },
    {
     "name": "stdout",
     "output_type": "stream",
     "text": [
      "(0, 1, 2, 3)\n",
      "(0, 1, 3, 2)\n"
     ]
    },
    {
     "name": "stderr",
     "output_type": "stream",
     "text": [
      "Speed: 0.8ms preprocess, 66.8ms inference, 0.0ms postprocess per image at shape (1, 3, 640, 640)\n",
      "\n",
      "image 1/1 C:\\Users\\jinmo\\Documents\\GitHub\\tp2-copy\\YOLOv8_det_4_channel\\epochs50_batch64_size640360_count9027\\test.png: 384x640 (no detections), 61.5ms\n",
      "Speed: 0.7ms preprocess, 61.5ms inference, 0.0ms postprocess per image at shape (1, 3, 640, 640)\n"
     ]
    },
    {
     "name": "stdout",
     "output_type": "stream",
     "text": [
      "(0, 2, 1, 3)\n"
     ]
    },
    {
     "name": "stderr",
     "output_type": "stream",
     "text": [
      "\n",
      "image 1/1 C:\\Users\\jinmo\\Documents\\GitHub\\tp2-copy\\YOLOv8_det_4_channel\\epochs50_batch64_size640360_count9027\\test.png: 384x640 (no detections), 62.8ms\n",
      "Speed: 1.0ms preprocess, 62.8ms inference, 0.7ms postprocess per image at shape (1, 3, 640, 640)\n"
     ]
    },
    {
     "name": "stdout",
     "output_type": "stream",
     "text": [
      "(0, 2, 3, 1)\n"
     ]
    },
    {
     "name": "stderr",
     "output_type": "stream",
     "text": [
      "\n",
      "image 1/1 C:\\Users\\jinmo\\Documents\\GitHub\\tp2-copy\\YOLOv8_det_4_channel\\epochs50_batch64_size640360_count9027\\test.png: 384x640 1 , 1   , 92.1ms\n",
      "Speed: 0.7ms preprocess, 92.1ms inference, 0.7ms postprocess per image at shape (1, 3, 640, 640)\n",
      "\n"
     ]
    },
    {
     "name": "stdout",
     "output_type": "stream",
     "text": [
      "(0, 3, 1, 2)\n",
      "(0, 3, 2, 1)\n"
     ]
    },
    {
     "name": "stderr",
     "output_type": "stream",
     "text": [
      "image 1/1 C:\\Users\\jinmo\\Documents\\GitHub\\tp2-copy\\YOLOv8_det_4_channel\\epochs50_batch64_size640360_count9027\\test.png: 384x640 1 , 1   , 64.4ms\n",
      "Speed: 0.7ms preprocess, 64.4ms inference, 0.0ms postprocess per image at shape (1, 3, 640, 640)\n",
      "\n",
      "image 1/1 C:\\Users\\jinmo\\Documents\\GitHub\\tp2-copy\\YOLOv8_det_4_channel\\epochs50_batch64_size640360_count9027\\test.png: 384x640 2 s, 63.4ms\n",
      "Speed: 0.0ms preprocess, 63.4ms inference, 0.8ms postprocess per image at shape (1, 3, 640, 640)\n",
      "\n",
      "image 1/1 C:\\Users\\jinmo\\Documents\\GitHub\\tp2-copy\\YOLOv8_det_4_channel\\epochs50_batch64_size640360_count9027\\test.png: 384x640 (no detections), 61.4ms\n"
     ]
    },
    {
     "name": "stdout",
     "output_type": "stream",
     "text": [
      "(1, 0, 2, 3)\n",
      "(1, 0, 3, 2)\n"
     ]
    },
    {
     "name": "stderr",
     "output_type": "stream",
     "text": [
      "Speed: 0.8ms preprocess, 61.4ms inference, 0.0ms postprocess per image at shape (1, 3, 640, 640)\n",
      "\n",
      "image 1/1 C:\\Users\\jinmo\\Documents\\GitHub\\tp2-copy\\YOLOv8_det_4_channel\\epochs50_batch64_size640360_count9027\\test.png: 384x640 1 , 61.4ms\n",
      "Speed: 1.5ms preprocess, 61.4ms inference, 0.0ms postprocess per image at shape (1, 3, 640, 640)\n",
      "\n",
      "image 1/1 C:\\Users\\jinmo\\Documents\\GitHub\\tp2-copy\\YOLOv8_det_4_channel\\epochs50_batch64_size640360_count9027\\test.png: 384x640 (no detections), 67.5ms\n"
     ]
    },
    {
     "name": "stdout",
     "output_type": "stream",
     "text": [
      "(1, 2, 0, 3)\n",
      "(1, 2, 3, 0)\n"
     ]
    },
    {
     "name": "stderr",
     "output_type": "stream",
     "text": [
      "Speed: 0.7ms preprocess, 67.5ms inference, 0.0ms postprocess per image at shape (1, 3, 640, 640)\n",
      "\n",
      "image 1/1 C:\\Users\\jinmo\\Documents\\GitHub\\tp2-copy\\YOLOv8_det_4_channel\\epochs50_batch64_size640360_count9027\\test.png: 384x640 1 , 1   , 66.0ms\n",
      "Speed: 0.8ms preprocess, 66.0ms inference, 0.9ms postprocess per image at shape (1, 3, 640, 640)\n",
      "\n"
     ]
    },
    {
     "name": "stdout",
     "output_type": "stream",
     "text": [
      "(1, 3, 0, 2)\n",
      "(1, 3, 2, 0)\n"
     ]
    },
    {
     "name": "stderr",
     "output_type": "stream",
     "text": [
      "image 1/1 C:\\Users\\jinmo\\Documents\\GitHub\\tp2-copy\\YOLOv8_det_4_channel\\epochs50_batch64_size640360_count9027\\test.png: 384x640 1   , 74.7ms\n",
      "Speed: 0.7ms preprocess, 74.7ms inference, 0.8ms postprocess per image at shape (1, 3, 640, 640)\n",
      "\n",
      "image 1/1 C:\\Users\\jinmo\\Documents\\GitHub\\tp2-copy\\YOLOv8_det_4_channel\\epochs50_batch64_size640360_count9027\\test.png: 384x640 1 , 70.1ms\n",
      "Speed: 0.8ms preprocess, 70.1ms inference, 0.0ms postprocess per image at shape (1, 3, 640, 640)\n",
      "\n"
     ]
    },
    {
     "name": "stdout",
     "output_type": "stream",
     "text": [
      "(2, 0, 1, 3)\n",
      "(2, 0, 3, 1)\n"
     ]
    },
    {
     "name": "stderr",
     "output_type": "stream",
     "text": [
      "image 1/1 C:\\Users\\jinmo\\Documents\\GitHub\\tp2-copy\\YOLOv8_det_4_channel\\epochs50_batch64_size640360_count9027\\test.png: 384x640 (no detections), 66.8ms\n",
      "Speed: 1.5ms preprocess, 66.8ms inference, 0.8ms postprocess per image at shape (1, 3, 640, 640)\n",
      "\n",
      "image 1/1 C:\\Users\\jinmo\\Documents\\GitHub\\tp2-copy\\YOLOv8_det_4_channel\\epochs50_batch64_size640360_count9027\\test.png: 384x640 1 , 67.4ms\n",
      "Speed: 0.7ms preprocess, 67.4ms inference, 0.8ms postprocess per image at shape (1, 3, 640, 640)\n",
      "\n",
      "image 1/1 C:\\Users\\jinmo\\Documents\\GitHub\\tp2-copy\\YOLOv8_det_4_channel\\epochs50_batch64_size640360_count9027\\test.png: 384x640 (no detections), 63.6ms\n"
     ]
    },
    {
     "name": "stdout",
     "output_type": "stream",
     "text": [
      "(2, 1, 0, 3)\n",
      "(2, 1, 3, 0)\n"
     ]
    },
    {
     "name": "stderr",
     "output_type": "stream",
     "text": [
      "Speed: 0.8ms preprocess, 63.6ms inference, 0.0ms postprocess per image at shape (1, 3, 640, 640)\n",
      "\n",
      "image 1/1 C:\\Users\\jinmo\\Documents\\GitHub\\tp2-copy\\YOLOv8_det_4_channel\\epochs50_batch64_size640360_count9027\\test.png: 384x640 1 , 1   , 64.9ms\n",
      "Speed: 0.7ms preprocess, 64.9ms inference, 0.7ms postprocess per image at shape (1, 3, 640, 640)\n",
      "\n",
      "image 1/1 C:\\Users\\jinmo\\Documents\\GitHub\\tp2-copy\\YOLOv8_det_4_channel\\epochs50_batch64_size640360_count9027\\test.png: 384x640 1 , 1   , 61.1ms\n"
     ]
    },
    {
     "name": "stdout",
     "output_type": "stream",
     "text": [
      "(2, 3, 0, 1)\n",
      "(2, 3, 1, 0)\n"
     ]
    },
    {
     "name": "stderr",
     "output_type": "stream",
     "text": [
      "Speed: 0.7ms preprocess, 61.1ms inference, 0.8ms postprocess per image at shape (1, 3, 640, 640)\n",
      "\n",
      "image 1/1 C:\\Users\\jinmo\\Documents\\GitHub\\tp2-copy\\YOLOv8_det_4_channel\\epochs50_batch64_size640360_count9027\\test.png: 384x640 1   , 61.0ms\n",
      "Speed: 0.8ms preprocess, 61.0ms inference, 0.7ms postprocess per image at shape (1, 3, 640, 640)\n",
      "\n",
      "image 1/1 C:\\Users\\jinmo\\Documents\\GitHub\\tp2-copy\\YOLOv8_det_4_channel\\epochs50_batch64_size640360_count9027\\test.png: 384x640 1   , 62.8ms\n"
     ]
    },
    {
     "name": "stdout",
     "output_type": "stream",
     "text": [
      "(3, 0, 1, 2)\n",
      "(3, 0, 2, 1)\n"
     ]
    },
    {
     "name": "stderr",
     "output_type": "stream",
     "text": [
      "Speed: 0.8ms preprocess, 62.8ms inference, 0.7ms postprocess per image at shape (1, 3, 640, 640)\n",
      "\n",
      "image 1/1 C:\\Users\\jinmo\\Documents\\GitHub\\tp2-copy\\YOLOv8_det_4_channel\\epochs50_batch64_size640360_count9027\\test.png: 384x640 1   , 63.8ms\n",
      "Speed: 0.8ms preprocess, 63.8ms inference, 1.5ms postprocess per image at shape (1, 3, 640, 640)\n",
      "\n",
      "image 1/1 C:\\Users\\jinmo\\Documents\\GitHub\\tp2-copy\\YOLOv8_det_4_channel\\epochs50_batch64_size640360_count9027\\test.png: 384x640 1   , 62.3ms\n",
      "Speed: 0.0ms preprocess, 62.3ms inference, 0.0ms postprocess per image at shape (1, 3, 640, 640)\n",
      "\n"
     ]
    },
    {
     "name": "stdout",
     "output_type": "stream",
     "text": [
      "(3, 1, 0, 2)\n",
      "(3, 1, 2, 0)\n",
      "(3, 2, 0, 1)\n"
     ]
    },
    {
     "name": "stderr",
     "output_type": "stream",
     "text": [
      "image 1/1 C:\\Users\\jinmo\\Documents\\GitHub\\tp2-copy\\YOLOv8_det_4_channel\\epochs50_batch64_size640360_count9027\\test.png: 384x640 1   , 63.1ms\n",
      "Speed: 1.0ms preprocess, 63.1ms inference, 0.8ms postprocess per image at shape (1, 3, 640, 640)\n",
      "\n",
      "image 1/1 C:\\Users\\jinmo\\Documents\\GitHub\\tp2-copy\\YOLOv8_det_4_channel\\epochs50_batch64_size640360_count9027\\test.png: 384x640 1   , 59.7ms\n",
      "Speed: 0.8ms preprocess, 59.7ms inference, 0.8ms postprocess per image at shape (1, 3, 640, 640)\n"
     ]
    },
    {
     "name": "stdout",
     "output_type": "stream",
     "text": [
      "(3, 2, 1, 0)\n"
     ]
    }
   ],
   "source": [
    "# 형식 바꿔서 저장\n",
    "order = 0,1,2,3\n",
    "combinations = unique_combinations(order, 4)\n",
    "for order in combinations:\n",
    "    print(order)\n",
    "    try:\n",
    "        cv2.imwrite('test.png', image[:,:,order])\n",
    "        # Run inference on image\n",
    "        results = model('test.png')  # results list\n",
    "        # results = model(image)  # results list\n",
    "\n",
    "        # Show the results\n",
    "        for r in results:\n",
    "            im_array = r.plot()\n",
    "            im = Image.fromarray(im_array[..., ::-1])\n",
    "            im.show()  # show image\n",
    "            im.save(f'{order}.png')  # save image\n",
    "            \n",
    "    except:\n",
    "        None"
   ]
  }
 ],
 "metadata": {
  "kernelspec": {
   "display_name": "tp2",
   "language": "python",
   "name": "python3"
  },
  "language_info": {
   "codemirror_mode": {
    "name": "ipython",
    "version": 3
   },
   "file_extension": ".py",
   "mimetype": "text/x-python",
   "name": "python",
   "nbconvert_exporter": "python",
   "pygments_lexer": "ipython3",
   "version": "3.9.17"
  },
  "orig_nbformat": 4
 },
 "nbformat": 4,
 "nbformat_minor": 2
}
