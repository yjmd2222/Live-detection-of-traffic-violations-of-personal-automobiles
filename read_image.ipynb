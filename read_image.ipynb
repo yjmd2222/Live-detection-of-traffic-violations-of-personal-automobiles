{
 "cells": [
  {
   "cell_type": "code",
   "execution_count": 1,
   "metadata": {},
   "outputs": [],
   "source": [
    "import cv2\n",
    "\n",
    "image = cv2.imread(r\"C:\\Users\\jinmo\\Documents\\GitHub\\tp2\\data\\generated_4ch_roboflow\\train\\images\\-_-2-_20230829_222433_0450_png.rf.c1c937dcb347f230c200ef4ba01e8c90.png\", cv2.IMREAD_UNCHANGED)\n",
    "cv2.imshow('what', image[:,:,[0,1,2]])\n",
    "cv2.waitKey(0)\n",
    "cv2.destroyAllWindows()"
   ]
  }
 ],
 "metadata": {
  "kernelspec": {
   "display_name": "tp2",
   "language": "python",
   "name": "python3"
  },
  "language_info": {
   "codemirror_mode": {
    "name": "ipython",
    "version": 3
   },
   "file_extension": ".py",
   "mimetype": "text/x-python",
   "name": "python",
   "nbconvert_exporter": "python",
   "pygments_lexer": "ipython3",
   "version": "3.9.17"
  },
  "orig_nbformat": 4
 },
 "nbformat": 4,
 "nbformat_minor": 2
}
