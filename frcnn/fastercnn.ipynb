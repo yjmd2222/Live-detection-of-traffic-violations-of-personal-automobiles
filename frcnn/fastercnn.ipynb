{
 "cells": [
  {
   "cell_type": "markdown",
   "metadata": {},
   "source": [
    "### ReadMe\n",
    "\n",
    "- ipynb파일에서 실행하는 방법입니다.\n",
    "- 이 과정을 터미널에서 진행할 수 있습니다."
   ]
  },
  {
   "cell_type": "code",
   "execution_count": null,
   "metadata": {},
   "outputs": [],
   "source": [
    "# Faster R-CNN pipeline clone\n",
    "!git clone https://github.com/sovit-123/fastercnn-pytorch-training-pipeline.git"
   ]
  },
  {
   "cell_type": "code",
   "execution_count": null,
   "metadata": {},
   "outputs": [],
   "source": [
    "%cd ../fastercnn-pytorch-training-pipeline"
   ]
  },
  {
   "cell_type": "code",
   "execution_count": null,
   "metadata": {},
   "outputs": [],
   "source": [
    "!pip install -r requirements.txt"
   ]
  },
  {
   "cell_type": "code",
   "execution_count": null,
   "metadata": {},
   "outputs": [],
   "source": [
    "import os\n",
    "os.environ['WANDB_DISABLED'] = 'true'"
   ]
  },
  {
   "cell_type": "code",
   "execution_count": null,
   "metadata": {},
   "outputs": [],
   "source": [
    "# --data의 yaml파일 주소를 check하세요.\n",
    "# epochs와 batch를 조정할 수 있습니다.\n",
    "\n",
    "!python train.py --data ../frcnn-dataset/PM.yaml --epochs 10 --model fasterrcnn_resnet50_fpn_v2 --name custom_training --batch 8"
   ]
  }
 ],
 "metadata": {
  "language_info": {
   "name": "python"
  },
  "orig_nbformat": 4
 },
 "nbformat": 4,
 "nbformat_minor": 2
}
